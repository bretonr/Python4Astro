{
 "metadata": {
  "name": ""
 },
 "nbformat": 3,
 "nbformat_minor": 0,
 "worksheets": [
  {
   "cells": [
    {
     "cell_type": "heading",
     "level": 1,
     "metadata": {},
     "source": [
      "Advanced Programming Techniques and Python for Astronomers"
     ]
    },
    {
     "cell_type": "heading",
     "level": 2,
     "metadata": {},
     "source": [
      "2014 Southampton Astronomy Postgraduate Lecture Series, Dr. Rene Breton"
     ]
    },
    {
     "cell_type": "heading",
     "level": 2,
     "metadata": {},
     "source": [
      "Introduction"
     ]
    },
    {
     "cell_type": "heading",
     "level": 3,
     "metadata": {},
     "source": [
      "Lecture Plan"
     ]
    },
    {
     "cell_type": "markdown",
     "metadata": {},
     "source": [
      "1. Intro: Good programming practices\n",
      "2. Numpy/Scipy\n",
      "3. Code optimisation"
     ]
    },
    {
     "cell_type": "heading",
     "level": 3,
     "metadata": {},
     "source": [
      "Good programming pratices"
     ]
    },
    {
     "cell_type": "heading",
     "level": 4,
     "metadata": {},
     "source": [
      "Importing modules"
     ]
    },
    {
     "cell_type": "markdown",
     "metadata": {},
     "source": [
      "One should always avoid importing modules blindly... This may create several problems. For instance:\n",
      "\n",
      "* If the module changes and the code needs updating, finding all relevant call to the module becomes like finding a needle in a haystack.\n",
      "* It becomes very hard to keep track of the namespace usage. Hence one may not realise that some functions and variables have been overriden.\n",
      "\n",
      "Here is an example:"
     ]
    },
    {
     "cell_type": "code",
     "collapsed": false,
     "input": [
      "# Let's define a variable 'sqrt', the square root of some other variable\n",
      "sqrt = 3.\n",
      "print(type(sqrt))\n",
      "print(sqrt)"
     ],
     "language": "python",
     "metadata": {},
     "outputs": [
      {
       "output_type": "stream",
       "stream": "stdout",
       "text": [
        "<type 'float'>\n",
        "3.0\n"
       ]
      }
     ],
     "prompt_number": 26
    },
    {
     "cell_type": "code",
     "collapsed": false,
     "input": [
      "# Now let's import everything from numpy\n",
      "from numpy import *\n",
      "print(type(sqrt))\n",
      "print(sqrt)"
     ],
     "language": "python",
     "metadata": {},
     "outputs": [
      {
       "output_type": "stream",
       "stream": "stdout",
       "text": [
        "<type 'numpy.ufunc'>\n",
        "<ufunc 'sqrt'>\n"
       ]
      }
     ],
     "prompt_number": 27
    },
    {
     "cell_type": "markdown",
     "metadata": {},
     "source": [
      "So it is dangerous to forget about variables in the code. Above we initially had 'sqrt' set as a float and then it's behaviour changed to be a numpy function. Instead, just import modules directly or as an alias. If needed you can always explicitely load specific parts into the namespace (but then you are aware)."
     ]
    },
    {
     "cell_type": "code",
     "collapsed": false,
     "input": [
      "import numpy # direct import\n",
      "import numpy as np # convenient to use a shorter version if the module is often called\n",
      "from numpy import sqrt # if only one particular function is needed, it's not bad to import it explicitely"
     ],
     "language": "python",
     "metadata": {},
     "outputs": [],
     "prompt_number": 28
    },
    {
     "cell_type": "heading",
     "level": 4,
     "metadata": {},
     "source": [
      "Python coding style (the case of indentation)"
     ]
    },
    {
     "cell_type": "markdown",
     "metadata": {},
     "source": [
      "You may refer to the Style Guide for Python Code (http://www.python.org/dev/peps/pep-0008/) to know the 'proper' way to style your code. There are things like the length of lines that should not be more than 79 characters that I personnnaly find a bit unnecessary (given the availability of screen real estate these days). However, indentation is a very important one for readability of your code. Code should be indented with **space, not tabs, and should be 4 spaces**."
     ]
    },
    {
     "cell_type": "code",
     "collapsed": false,
     "input": [],
     "language": "python",
     "metadata": {},
     "outputs": [],
     "prompt_number": 28
    },
    {
     "cell_type": "markdown",
     "metadata": {},
     "source": [
      "Bad indentation... makes it difficult to know what level things are."
     ]
    },
    {
     "cell_type": "code",
     "collapsed": false,
     "input": [
      "for i in range(4):\n",
      " a = 3\n",
      " # do more stuff\n",
      " for m in range(2):\n",
      "     for n in range(3):\n",
      "            pass"
     ],
     "language": "python",
     "metadata": {},
     "outputs": [],
     "prompt_number": 29
    },
    {
     "cell_type": "markdown",
     "metadata": {},
     "source": [
      "Good indentation has consistently 4 spaces. You can see everything lining up all the way down!"
     ]
    },
    {
     "cell_type": "code",
     "collapsed": false,
     "input": [
      "for i in range(4):\n",
      "    a = 3\n",
      "    # do more stuff\n",
      "    for m in range(2):\n",
      "        for n in range(3):\n",
      "            pass"
     ],
     "language": "python",
     "metadata": {},
     "outputs": [],
     "prompt_number": 30
    },
    {
     "cell_type": "heading",
     "level": 4,
     "metadata": {},
     "source": [
      "Comments"
     ]
    },
    {
     "cell_type": "markdown",
     "metadata": {},
     "source": [
      "Comment, comment, comment! Just like you write things down in your research notebook, write down a lot of comments and annotated to document your code. Others using you code will appreciate; you will love youself for doing it if you get back to your code after leaving it for several weeks, months, years."
     ]
    },
    {
     "cell_type": "markdown",
     "metadata": {},
     "source": [
      "Example of annotated code:"
     ]
    },
    {
     "cell_type": "code",
     "collapsed": false,
     "input": [
      "## I personnal try to comment lines using two ## to differenciate from lines that are \"temporarilly\" (or not) taken out\n",
      "q_by_orbph = 50./3600\n",
      "#q_by_orbph = 40./3600\n",
      "\n",
      "def polynomial(x, a_n):\n",
      "    \"\"\"\n",
      "    This function calculates the polynomial of a value or array\n",
      "    given a list of coefficients.\n",
      "    \n",
      "    Input:\n",
      "        x (float, array): value to evaluate the polynomial at\n",
      "        a_n (list, array): polynomial coefficients from the\n",
      "            lowest to highest order.\n",
      "    \n",
      "    Output:\n",
      "        y = a_n[0] + a_n[1]*x + ...\n",
      "    \"\"\"\n",
      "    y = a_n[0]\n",
      "    for i, a in enumerate(a_n[1:]):\n",
      "        y = y + a*x**i\n",
      "    return y\n",
      "\n",
      "x = 4.5\n",
      "a_n = [3., 0.1, -1.3]\n",
      "y = polynomial(x, a_n)\n",
      "print(y)"
     ],
     "language": "python",
     "metadata": {},
     "outputs": [
      {
       "output_type": "stream",
       "stream": "stdout",
       "text": [
        "-2.75\n"
       ]
      }
     ],
     "prompt_number": 31
    },
    {
     "cell_type": "heading",
     "level": 3,
     "metadata": {},
     "source": [
      "Code development"
     ]
    },
    {
     "cell_type": "markdown",
     "metadata": {},
     "source": [
      "I always develop code using an ipython prompt. It allows for very nice interactive inspection of the modules."
     ]
    },
    {
     "cell_type": "code",
     "collapsed": false,
     "input": [
      "np.modf?"
     ],
     "language": "python",
     "metadata": {},
     "outputs": [],
     "prompt_number": 33
    },
    {
     "cell_type": "markdown",
     "metadata": {},
     "source": [
      "I write my scripts in a .py file and copy-paste lines as I go, either directly or using the magic %paste function (which is useful for long bits of code containing indentation)."
     ]
    },
    {
     "cell_type": "raw",
     "metadata": {},
     "source": [
      "a = np.arange(10.)\n",
      "b = (a + 1.3)**3\n",
      "print(\"a: {}\".format(a))\n",
      "print(\"b: {}\".format(b))"
     ]
    },
    {
     "cell_type": "code",
     "collapsed": false,
     "input": [],
     "language": "python",
     "metadata": {},
     "outputs": [],
     "prompt_number": 33
    },
    {
     "cell_type": "markdown",
     "metadata": {},
     "source": [
      "It may also be useful to use the magic %run function"
     ]
    },
    {
     "cell_type": "code",
     "collapsed": false,
     "input": [
      "%run intro_extra1.py"
     ],
     "language": "python",
     "metadata": {},
     "outputs": [
      {
       "output_type": "stream",
       "stream": "stdout",
       "text": [
        "Running code from the file\n",
        "a: [ 0.  1.  2.  3.  4.  5.  6.  7.  8.  9.]\n",
        "b: [    2.197    12.167    35.937    79.507   148.877   250.047   389.017\n",
        "   571.787   804.357  1092.727]\n"
       ]
      }
     ],
     "prompt_number": 34
    },
    {
     "cell_type": "markdown",
     "metadata": {},
     "source": [
      "Note that the namespace has changed."
     ]
    },
    {
     "cell_type": "code",
     "collapsed": false,
     "input": [
      "print(\"a: {}\".format(a))\n",
      "print(\"b: {}\".format(b))"
     ],
     "language": "python",
     "metadata": {},
     "outputs": [
      {
       "output_type": "stream",
       "stream": "stdout",
       "text": [
        "a: [ 0.  1.  2.  3.  4.  5.  6.  7.  8.  9.]\n",
        "b: [    2.197    12.167    35.937    79.507   148.877   250.047   389.017\n",
        "   571.787   804.357  1092.727]\n"
       ]
      }
     ],
     "prompt_number": 36
    },
    {
     "cell_type": "markdown",
     "metadata": {},
     "source": [
      "However the script can't use variables defined in the shell's namespace."
     ]
    },
    {
     "cell_type": "code",
     "collapsed": false,
     "input": [
      "c = 5.\n",
      "%run intro_extra2.py"
     ],
     "language": "python",
     "metadata": {},
     "outputs": [
      {
       "ename": "NameError",
       "evalue": "name 'c' is not defined",
       "output_type": "pyerr",
       "traceback": [
        "\u001b[0;31m---------------------------------------------------------------------------\u001b[0m\n\u001b[0;31mNameError\u001b[0m                                 Traceback (most recent call last)",
        "\u001b[0;32m/opt/local/Library/Frameworks/Python.framework/Versions/2.7/lib/python2.7/site-packages/IPython/utils/py3compat.pyc\u001b[0m in \u001b[0;36mexecfile\u001b[0;34m(fname, *where)\u001b[0m\n\u001b[1;32m    202\u001b[0m             \u001b[0;32melse\u001b[0m\u001b[0;34m:\u001b[0m\u001b[0;34m\u001b[0m\u001b[0m\n\u001b[1;32m    203\u001b[0m                 \u001b[0mfilename\u001b[0m \u001b[0;34m=\u001b[0m \u001b[0mfname\u001b[0m\u001b[0;34m\u001b[0m\u001b[0m\n\u001b[0;32m--> 204\u001b[0;31m             \u001b[0m__builtin__\u001b[0m\u001b[0;34m.\u001b[0m\u001b[0mexecfile\u001b[0m\u001b[0;34m(\u001b[0m\u001b[0mfilename\u001b[0m\u001b[0;34m,\u001b[0m \u001b[0;34m*\u001b[0m\u001b[0mwhere\u001b[0m\u001b[0;34m)\u001b[0m\u001b[0;34m\u001b[0m\u001b[0m\n\u001b[0m",
        "\u001b[0;32m/Users/bretonr/intro_extra2.py\u001b[0m in \u001b[0;36m<module>\u001b[0;34m()\u001b[0m\n\u001b[1;32m      8\u001b[0m \u001b[0;32mprint\u001b[0m\u001b[0;34m(\u001b[0m\u001b[0;34m\"a: {}\"\u001b[0m\u001b[0;34m.\u001b[0m\u001b[0mformat\u001b[0m\u001b[0;34m(\u001b[0m\u001b[0ma\u001b[0m\u001b[0;34m)\u001b[0m\u001b[0;34m)\u001b[0m\u001b[0;34m\u001b[0m\u001b[0m\n\u001b[1;32m      9\u001b[0m \u001b[0;32mprint\u001b[0m\u001b[0;34m(\u001b[0m\u001b[0;34m\"b: {}\"\u001b[0m\u001b[0;34m.\u001b[0m\u001b[0mformat\u001b[0m\u001b[0;34m(\u001b[0m\u001b[0mb\u001b[0m\u001b[0;34m)\u001b[0m\u001b[0;34m)\u001b[0m\u001b[0;34m\u001b[0m\u001b[0m\n\u001b[0;32m---> 10\u001b[0;31m \u001b[0;32mprint\u001b[0m\u001b[0;34m(\u001b[0m\u001b[0;34m\"c: {}\"\u001b[0m\u001b[0;34m.\u001b[0m\u001b[0mformat\u001b[0m\u001b[0;34m(\u001b[0m\u001b[0mc\u001b[0m\u001b[0;34m)\u001b[0m\u001b[0;34m)\u001b[0m\u001b[0;34m\u001b[0m\u001b[0m\n\u001b[0m\u001b[1;32m     11\u001b[0m \u001b[0;34m\u001b[0m\u001b[0m\n",
        "\u001b[0;31mNameError\u001b[0m: name 'c' is not defined"
       ]
      },
      {
       "output_type": "stream",
       "stream": "stdout",
       "text": [
        "Running code from the file\n",
        "a: [ 0.  1.  2.  3.  4.  5.  6.  7.  8.  9.]\n",
        "b: [    2.197    12.167    35.937    79.507   148.877   250.047   389.017\n",
        "   571.787   804.357  1092.727]\n"
       ]
      }
     ],
     "prompt_number": 38
    },
    {
     "cell_type": "markdown",
     "metadata": {},
     "source": [
      "This can be done though by using the '-i' flag."
     ]
    },
    {
     "cell_type": "code",
     "collapsed": false,
     "input": [
      "%run -i intro_extra2.py"
     ],
     "language": "python",
     "metadata": {},
     "outputs": [
      {
       "output_type": "stream",
       "stream": "stdout",
       "text": [
        "Running code from the file\n",
        "a: [ 0.  1.  2.  3.  4.  5.  6.  7.  8.  9.]\n",
        "b: [    2.197    12.167    35.937    79.507   148.877   250.047   389.017\n",
        "   571.787   804.357  1092.727]\n",
        "c: 5.0\n"
       ]
      }
     ],
     "prompt_number": 40
    },
    {
     "cell_type": "heading",
     "level": 3,
     "metadata": {},
     "source": [
      "Useful resources"
     ]
    },
    {
     "cell_type": "markdown",
     "metadata": {},
     "source": [
      "* Online scientific Python course (as an ipython notebook): http://nbviewer.ipython.org/github/jrjohansson/scientific-python-lectures/tree/master/\n",
      "\n",
      "* Numpy performance tricks: http://nbviewer.ipython.org/gist/rossant/4645217\n",
      "\n",
      "* Speeding up... numpy, weave cython: http://technicaldiscovery.blogspot.co.uk/2011/06/speeding-up-python-numpy-cython-and.html"
     ]
    }
   ],
   "metadata": {}
  }
 ]
}